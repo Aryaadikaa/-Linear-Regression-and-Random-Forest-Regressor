{
 "cells": [
  {
   "cell_type": "markdown",
   "id": "ce8ad4c1",
   "metadata": {},
   "source": [
    "# Regression and Prediction"
   ]
  },
  {
   "cell_type": "markdown",
   "id": "eb9ceed6",
   "metadata": {},
   "source": [
    "Mungkin tujuan paling umum dalam statistik adalah untuk menjawab pertanyaan “Apakah variabel X (atau lebih mungkin, X1, ..., Xp) terkait dengan variabel Y, dan jika ya, apa hubungannya dan dapatkah kita menggunakannya untuk prediksi Y?”"
   ]
  },
  {
   "cell_type": "markdown",
   "id": "d99292cd",
   "metadata": {},
   "source": [
    "# Simple Linear Regression"
   ]
  },
  {
   "cell_type": "markdown",
   "id": "1ae16130",
   "metadata": {},
   "source": [
    "Regresi linier sederhana memperkirakan berapa banyak Y akan berubah ketika X berubah dengan jumlah tertentu."
   ]
  },
  {
   "cell_type": "markdown",
   "id": "338dbb4d",
   "metadata": {},
   "source": [
    "𝑌=𝑏0+𝑏1𝑋"
   ]
  },
  {
   "cell_type": "markdown",
   "id": "63e7b023",
   "metadata": {},
   "source": [
    "b0 dikenal sebagai perpotongan (atau konstanta), dan simbol b1 sebagai kemiringan untuk X"
   ]
  },
  {
   "cell_type": "markdown",
   "id": "b033cfdd",
   "metadata": {},
   "source": [
    "Variabel Y dikenal sebagai respon atau variabel dependen karena bergantung pada X. Variabel X dikenal sebagai prediktor atau variabel independen. Komunitas pembelajaran mesin cenderung menggunakan istilah lain, menyebut Y sebagai target dan X sebagai vektor fitur."
   ]
  },
  {
   "cell_type": "code",
   "execution_count": 21,
   "id": "f617184c",
   "metadata": {},
   "outputs": [],
   "source": [
    "import pandas as pd\n",
    "import matplotlib.pyplot as plt \n",
    "import seaborn as sns"
   ]
  },
  {
   "cell_type": "code",
   "execution_count": 22,
   "id": "31c12e46",
   "metadata": {},
   "outputs": [],
   "source": [
    "df = pd.read_csv('Data Penjualan HP.csv')\n",
    "#df = pd.read_csv('Data Penjualan HP.csv')\n"
   ]
  },
  {
   "cell_type": "code",
   "execution_count": 23,
   "id": "02f4b35c",
   "metadata": {},
   "outputs": [
    {
     "data": {
      "text/html": [
       "<div>\n",
       "<style scoped>\n",
       "    .dataframe tbody tr th:only-of-type {\n",
       "        vertical-align: middle;\n",
       "    }\n",
       "\n",
       "    .dataframe tbody tr th {\n",
       "        vertical-align: top;\n",
       "    }\n",
       "\n",
       "    .dataframe thead th {\n",
       "        text-align: right;\n",
       "    }\n",
       "</style>\n",
       "<table border=\"1\" class=\"dataframe\">\n",
       "  <thead>\n",
       "    <tr style=\"text-align: right;\">\n",
       "      <th></th>\n",
       "      <th>Oppo</th>\n",
       "      <th>Xiaomi</th>\n",
       "      <th>Samsung</th>\n",
       "      <th>Tahun</th>\n",
       "    </tr>\n",
       "  </thead>\n",
       "  <tbody>\n",
       "    <tr>\n",
       "      <th>0</th>\n",
       "      <td>8.5</td>\n",
       "      <td>8.1</td>\n",
       "      <td>7.2</td>\n",
       "      <td>2019</td>\n",
       "    </tr>\n",
       "    <tr>\n",
       "      <th>1</th>\n",
       "      <td>8.6</td>\n",
       "      <td>8.0</td>\n",
       "      <td>7.3</td>\n",
       "      <td>2020</td>\n",
       "    </tr>\n",
       "    <tr>\n",
       "      <th>2</th>\n",
       "      <td>8.7</td>\n",
       "      <td>7.9</td>\n",
       "      <td>7.4</td>\n",
       "      <td>2021</td>\n",
       "    </tr>\n",
       "    <tr>\n",
       "      <th>3</th>\n",
       "      <td>8.8</td>\n",
       "      <td>7.8</td>\n",
       "      <td>7.5</td>\n",
       "      <td>2022</td>\n",
       "    </tr>\n",
       "    <tr>\n",
       "      <th>4</th>\n",
       "      <td>8.9</td>\n",
       "      <td>7.7</td>\n",
       "      <td>7.6</td>\n",
       "      <td>2023</td>\n",
       "    </tr>\n",
       "  </tbody>\n",
       "</table>\n",
       "</div>"
      ],
      "text/plain": [
       "   Oppo  Xiaomi  Samsung  Tahun\n",
       "0   8.5     8.1      7.2   2019\n",
       "1   8.6     8.0      7.3   2020\n",
       "2   8.7     7.9      7.4   2021\n",
       "3   8.8     7.8      7.5   2022\n",
       "4   8.9     7.7      7.6   2023"
      ]
     },
     "execution_count": 23,
     "metadata": {},
     "output_type": "execute_result"
    }
   ],
   "source": [
    "df.head()"
   ]
  },
  {
   "cell_type": "code",
   "execution_count": 50,
   "id": "cbea3351",
   "metadata": {},
   "outputs": [
    {
     "name": "stdout",
     "output_type": "stream",
     "text": [
      "<class 'pandas.core.frame.DataFrame'>\n",
      "RangeIndex: 5 entries, 0 to 4\n",
      "Data columns (total 4 columns):\n",
      " #   Column   Non-Null Count  Dtype  \n",
      "---  ------   --------------  -----  \n",
      " 0   Oppo     5 non-null      float64\n",
      " 1   Xiaomi   5 non-null      float64\n",
      " 2   Samsung  5 non-null      float64\n",
      " 3   Tahun    5 non-null      int64  \n",
      "dtypes: float64(3), int64(1)\n",
      "memory usage: 292.0 bytes\n"
     ]
    }
   ],
   "source": [
    "df.info()"
   ]
  },
  {
   "cell_type": "code",
   "execution_count": 51,
   "id": "0c9306e9",
   "metadata": {},
   "outputs": [
    {
     "data": {
      "text/html": [
       "<div>\n",
       "<style scoped>\n",
       "    .dataframe tbody tr th:only-of-type {\n",
       "        vertical-align: middle;\n",
       "    }\n",
       "\n",
       "    .dataframe tbody tr th {\n",
       "        vertical-align: top;\n",
       "    }\n",
       "\n",
       "    .dataframe thead th {\n",
       "        text-align: right;\n",
       "    }\n",
       "</style>\n",
       "<table border=\"1\" class=\"dataframe\">\n",
       "  <thead>\n",
       "    <tr style=\"text-align: right;\">\n",
       "      <th></th>\n",
       "      <th>Oppo</th>\n",
       "      <th>Xiaomi</th>\n",
       "      <th>Samsung</th>\n",
       "      <th>Tahun</th>\n",
       "    </tr>\n",
       "  </thead>\n",
       "  <tbody>\n",
       "    <tr>\n",
       "      <th>count</th>\n",
       "      <td>5.000000</td>\n",
       "      <td>5.000000</td>\n",
       "      <td>5.000000</td>\n",
       "      <td>5.000000</td>\n",
       "    </tr>\n",
       "    <tr>\n",
       "      <th>mean</th>\n",
       "      <td>8.700000</td>\n",
       "      <td>7.900000</td>\n",
       "      <td>7.400000</td>\n",
       "      <td>2021.000000</td>\n",
       "    </tr>\n",
       "    <tr>\n",
       "      <th>std</th>\n",
       "      <td>0.158114</td>\n",
       "      <td>0.158114</td>\n",
       "      <td>0.158114</td>\n",
       "      <td>1.581139</td>\n",
       "    </tr>\n",
       "    <tr>\n",
       "      <th>min</th>\n",
       "      <td>8.500000</td>\n",
       "      <td>7.700000</td>\n",
       "      <td>7.200000</td>\n",
       "      <td>2019.000000</td>\n",
       "    </tr>\n",
       "    <tr>\n",
       "      <th>25%</th>\n",
       "      <td>8.600000</td>\n",
       "      <td>7.800000</td>\n",
       "      <td>7.300000</td>\n",
       "      <td>2020.000000</td>\n",
       "    </tr>\n",
       "    <tr>\n",
       "      <th>50%</th>\n",
       "      <td>8.700000</td>\n",
       "      <td>7.900000</td>\n",
       "      <td>7.400000</td>\n",
       "      <td>2021.000000</td>\n",
       "    </tr>\n",
       "    <tr>\n",
       "      <th>75%</th>\n",
       "      <td>8.800000</td>\n",
       "      <td>8.000000</td>\n",
       "      <td>7.500000</td>\n",
       "      <td>2022.000000</td>\n",
       "    </tr>\n",
       "    <tr>\n",
       "      <th>max</th>\n",
       "      <td>8.900000</td>\n",
       "      <td>8.100000</td>\n",
       "      <td>7.600000</td>\n",
       "      <td>2023.000000</td>\n",
       "    </tr>\n",
       "  </tbody>\n",
       "</table>\n",
       "</div>"
      ],
      "text/plain": [
       "           Oppo    Xiaomi   Samsung        Tahun\n",
       "count  5.000000  5.000000  5.000000     5.000000\n",
       "mean   8.700000  7.900000  7.400000  2021.000000\n",
       "std    0.158114  0.158114  0.158114     1.581139\n",
       "min    8.500000  7.700000  7.200000  2019.000000\n",
       "25%    8.600000  7.800000  7.300000  2020.000000\n",
       "50%    8.700000  7.900000  7.400000  2021.000000\n",
       "75%    8.800000  8.000000  7.500000  2022.000000\n",
       "max    8.900000  8.100000  7.600000  2023.000000"
      ]
     },
     "execution_count": 51,
     "metadata": {},
     "output_type": "execute_result"
    }
   ],
   "source": [
    "df.describe()"
   ]
  },
  {
   "cell_type": "code",
   "execution_count": 53,
   "id": "a3fdb738",
   "metadata": {},
   "outputs": [
    {
     "data": {
      "image/png": "[encoded data removed]",
      "text/plain": [
       "<Figure size 1200x400 with 3 Axes>"
      ]
     },
     "metadata": {},
     "output_type": "display_data"
    }
   ],
   "source": [
    "sns.pairplot(df, x_vars=['Oppo', 'Xiaomi','Samsung'], \n",
    "             y_vars='Tahun', height=4, aspect=1, kind='scatter')\n",
    "plt.show()"
   ]
  },
  {
   "cell_type": "code",
   "execution_count": 54,
   "id": "b9538279",
   "metadata": {},
   "outputs": [
    {
     "data": {
      "image/png": "[encoded data removed]",
      "text/plain": [
       "<Figure size 640x480 with 2 Axes>"
      ]
     },
     "metadata": {},
     "output_type": "display_data"
    }
   ],
   "source": [
    "sns.heatmap(df.corr(), cmap=\"YlGnBu\", annot = True)\n",
    "plt.show()"
   ]
  }
 ],
 "metadata": {
  "kernelspec": {
   "display_name": "Python 3 (ipykernel)",
   "language": "python",
   "name": "python3"
  },
  "language_info": {
   "codemirror_mode": {
    "name": "ipython",
    "version": 3
   },
   "file_extension": ".py",
   "mimetype": "text/x-python",
   "name": "python",
   "nbconvert_exporter": "python",
   "pygments_lexer": "ipython3",
   "version": "3.12.4"
  }
 },
 "nbformat": 4,
 "nbformat_minor": 5
}
